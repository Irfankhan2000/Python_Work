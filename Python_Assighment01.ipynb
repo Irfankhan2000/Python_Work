{
 "cells": [
  {
   "cell_type": "code",
   "execution_count": null,
   "metadata": {},
   "outputs": [],
   "source": [
    "print('Hello world')"
   ]
  },
  {
   "cell_type": "code",
   "execution_count": null,
   "metadata": {},
   "outputs": [],
   "source": [
    "print(  '''    winkle, twinkle, little star, \n",
    "\n",
    "                      How I wonder what you are!\n",
    "\n",
    "                          Up above the world so high, \n",
    "\n",
    "                          Like a diamond in the sky.\n",
    "\n",
    "Twinkle, twinkle, little star, \n",
    "\n",
    "                          How I wonder what you are.''')"
   ]
  },
  {
   "cell_type": "code",
   "execution_count": 1,
   "metadata": {},
   "outputs": [
    {
     "name": "stdout",
     "output_type": "stream",
     "text": [
      "3.8.5 (default, Sep  3 2020, 21:29:08) [MSC v.1916 64 bit (AMD64)]\n"
     ]
    }
   ],
   "source": [
    "import sys\n",
    "print(sys.version)"
   ]
  },
  {
   "cell_type": "code",
   "execution_count": 2,
   "metadata": {},
   "outputs": [
    {
     "name": "stdout",
     "output_type": "stream",
     "text": [
      "Current date and time : \n",
      "2022-01-01 23:31:33\n"
     ]
    }
   ],
   "source": [
    "import datetime\n",
    "now = datetime.datetime.now()\n",
    "print (\"Current date and time : \")\n",
    "print (now.strftime(\"%Y-%m-%d %H:%M:%S\"))"
   ]
  },
  {
   "cell_type": "code",
   "execution_count": 5,
   "metadata": {},
   "outputs": [
    {
     "name": "stdout",
     "output_type": "stream",
     "text": [
      "enter radius of circle25\n",
      "Area of circle ia 1962.5\n"
     ]
    }
   ],
   "source": [
    "a=float(input(\"enter radius of circle\"))\n",
    "pi=3.14\n",
    "area =a*a*pi\n",
    "print(\"Area of circle ia %s\"%area)\n"
   ]
  },
  {
   "cell_type": "code",
   "execution_count": 18,
   "metadata": {},
   "outputs": [
    {
     "name": "stdout",
     "output_type": "stream",
     "text": [
      "Enter first name Irfan\n",
      "Enter last  name khan\n",
      "Your name is khan Irfan\n",
      "Reverse of name is \n"
     ]
    }
   ],
   "source": [
    "f_name=str(input(\"Enter first name \"))\n",
    "L_name=str(input(\"Enter last  name \"))\n",
    "full_name=L_name+\" \"+f_name\n",
    "print(\"Your name is %s\"%full_name)\n"
   ]
  },
  {
   "cell_type": "code",
   "execution_count": 28,
   "metadata": {},
   "outputs": [
    {
     "name": "stdout",
     "output_type": "stream",
     "text": [
      "Enter num15\n",
      "Enter num26\n",
      "addition of num1 and num2 is 11\n"
     ]
    }
   ],
   "source": [
    "#calculator\n",
    "num1=int(input(\"Enter num1 \"))\n",
    "num2=int(input(\"Enter num2 \"))\n",
    "ans=int((num1+num2))\n",
    "print(\"addition of num1 and num2 is %s\"%ans)"
   ]
  },
  {
   "cell_type": "code",
   "execution_count": null,
   "metadata": {},
   "outputs": [],
   "source": []
  }
 ],
 "metadata": {
  "kernelspec": {
   "display_name": "Python 3",
   "language": "python",
   "name": "python3"
  },
  "language_info": {
   "codemirror_mode": {
    "name": "ipython",
    "version": 3
   },
   "file_extension": ".py",
   "mimetype": "text/x-python",
   "name": "python",
   "nbconvert_exporter": "python",
   "pygments_lexer": "ipython3",
   "version": "3.8.5"
  }
 },
 "nbformat": 4,
 "nbformat_minor": 4
}
